{
 "cells": [
  {
   "cell_type": "code",
   "execution_count": null,
   "metadata": {},
   "outputs": [],
   "source": [
    "import pandas as pd\n",
    "import numpy as np\n",
    "from sklearn.cross_validation import train_test_split\n",
    "from sklearn.linear_model import LinearRegression\n",
    "import matplotlib.pyplot as plt"
   ]
  },
  {
   "cell_type": "code",
   "execution_count": null,
   "metadata": {},
   "outputs": [],
   "source": [
    "all_data=pd.read_csv(r'A:\\ML_Algos\\Linear_Regression\\winequality-white.csv',sep=';')\n",
    "print(all_data.head(5))\n",
    "print(all_data.dtypes)"
   ]
  },
  {
   "cell_type": "code",
   "execution_count": null,
   "metadata": {},
   "outputs": [],
   "source": [
    "#Drop all the non-int data and check the correlation between all the columns\n",
    "all_data.corr()\n",
    "\n",
    "#Spliting the data into training and testing data\n",
    "X=np.array(all_data.drop(['quality'],1))\n",
    "y=np.array(all_data['quality'])\n",
    "X_train,X_test,y_train,y_test=train_test_split(X,y,test_size=0.2)\n",
    "\n",
    "#Applying the \n",
    "clf=LinearRegression()\n",
    "\n",
    "# Train the model using the training sets\n",
    "clf.fit(X_train, y_train)\n",
    "\n",
    "#Finding theAttributes coefficients for LinearRegression Model\n",
    "#\n",
    "print('Coefficients: \\n', clf.coef_)\n",
    "print('Residuals: \\n',clf.residues_)\n",
    "print('Intercept: \\t',clf.intercept_)\n",
    "\n",
    "#https://en.wikipedia.org/wiki/Coefficient_of_determination"
   ]
  },
  {
   "cell_type": "code",
   "execution_count": null,
   "metadata": {},
   "outputs": [],
   "source": [
    "#Mean square error:\n",
    "print(\"Mean squared error: %.2f\"% np.mean((clf.predict(X_test) - y_test) ** 2))"
   ]
  },
  {
   "cell_type": "code",
   "execution_count": null,
   "metadata": {},
   "outputs": [],
   "source": [
    "print('Variance score: %.2f' % clf.score(X_test,y_test))"
   ]
  },
  {
   "cell_type": "code",
   "execution_count": null,
   "metadata": {},
   "outputs": [],
   "source": [
    "#Few methods:\n",
    "#decision_function\n",
    "#fit\n",
    "#get_params\n",
    "#predict\n",
    "#score\n",
    "#set_params"
   ]
  }
 ],
 "metadata": {
  "kernelspec": {
   "display_name": "Python 2",
   "language": "python",
   "name": "python2"
  },
  "language_info": {
   "codemirror_mode": {
    "name": "ipython",
    "version": 2.0
   },
   "file_extension": ".py",
   "mimetype": "text/x-python",
   "name": "python",
   "nbconvert_exporter": "python",
   "pygments_lexer": "ipython2",
   "version": "2.7.6"
  }
 },
 "nbformat": 4,
 "nbformat_minor": 0
}