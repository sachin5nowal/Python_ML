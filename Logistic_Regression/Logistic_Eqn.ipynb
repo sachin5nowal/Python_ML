{
 "cells": [
  {
   "cell_type": "code",
   "execution_count": null,
   "metadata": {
    "collapsed": true
   },
   "outputs": [],
   "source": [
    "import pandas as pd\n",
    "import numpy as np\n",
    "from sklearn.linear_model import LogisticRegression\n",
    "from sklearn.cross_validation import train_test_split\n",
    "from sklearn.cross_validation import cross_val_score\n",
    "import matplotlib.pyplot as plt\n",
    "\n",
    "\n",
    "file_path=r'C:\\Users\\Ultralite7\\Desktop\\machine-learning-ex1\\machine-learning-ex2\\machine-learning-ex2\\ex2\\ex2data1.txt'\n",
    "df=pd.read_csv(file_path,header=None)\n",
    "df.head(5)"
   ]
  },
  {
   "cell_type": "code",
   "execution_count": null,
   "metadata": {},
   "outputs": [],
   "source": [
    "df[1].size"
   ]
  },
  {
   "cell_type": "code",
   "execution_count": null,
   "metadata": {},
   "outputs": [],
   "source": [
    "#Spliting data into X and y\n",
    "\n",
    "X=np.array(df.drop([2],1))\n",
    "y=np.array(df.drop([0,1],1))\n",
    "y=np.ravel(y)\n",
    "\n",
    "\n",
    "\n",
    "X_train,X_test,y_train,y_test=train_test_split(X,y,test_size=0.2)\n",
    "model=LogisticRegression()\n",
    "model.fit(X,y)\n",
    "plt.scatter(df[0],df[1],c=df[2])\n",
    "plt.show()"
   ]
  },
  {
   "cell_type": "code",
   "execution_count": null,
   "metadata": {},
   "outputs": [],
   "source": [
    "plt.scatter(df[0],df[2])\n",
    "plt.title('Feature 1 VS  Category')\n",
    "plt.xlabel('Feature 1')\n",
    "plt.ylabel('Category')\n",
    "plt.show()"
   ]
  },
  {
   "cell_type": "code",
   "execution_count": null,
   "metadata": {},
   "outputs": [],
   "source": [
    "plt.scatter(df[1],df[2],c=df[2])\n",
    "plt.title('Feature 2 vs Category')\n",
    "plt.xlabel('Feature 2')\n",
    "plt.ylabel('Category')\n",
    "plt.show()"
   ]
  },
  {
   "cell_type": "code",
   "execution_count": null,
   "metadata": {},
   "outputs": [],
   "source": [
    "plt.subplot(1,2,1)\n",
    "plt.scatter(df[0],df[2])\n",
    "plt.subplot(1,2,2)\n",
    "plt.scatter(df[1],df[2])\n",
    "plt.show()"
   ]
  },
  {
   "cell_type": "code",
   "execution_count": null,
   "metadata": {},
   "outputs": [],
   "source": [
    "#Accuracy:In sample accuracy\n",
    "accu=model.score(X, y)\n",
    "print('Accuracy:',accu)\n",
    "\n",
    "#10 fold cross validation:\n",
    "scores = cross_val_score(LogisticRegression(), X, y, scoring='accuracy', cv=10)\n",
    "print(scores)\n",
    "print(scores.mean())\n",
    "\n",
    "#Predicting y_test on the trained model\n",
    "pre=model.predict(X_test)\n",
    "t=(y_test==pre)\n",
    "print(t)\n",
    "tt=np.count_nonzero(t)\n",
    "\n",
    "accuracy=tt/len(t)\n",
    "print('Out of sample accuracy: ',accuracy)"
   ]
  },
  {
   "cell_type": "code",
   "execution_count": null,
   "metadata": {},
   "outputs": [],
   "source": [
    "#Calculating features of logistic Equation\n",
    "#z=theta.dot(X)\n",
    "#h=1/(1+np.exp(-z))\n",
    "#X=2*1\n",
    "#theta=1*2\n",
    "theta=np.array([[0],[0]])\n",
    "print('Theta.T dimensions: ',theta.T.shape)\n",
    "print('X dimension for a row: ',X.shape)\n",
    "z=X.dot(theta)\n",
    "#print(z)\n",
    "\n",
    "#Logistic regression hypotheses\n",
    "h=1/(1+np.exp(-z))\n",
    "h[np.where(h>=0.5)]=1\n",
    "h[np.where(h<0.5)]=0"
   ]
  },
  {
   "cell_type": "code",
   "execution_count": null,
   "metadata": {},
   "outputs": [],
   "source": [
    "#Calculating features of logistic Equation\n",
    "#Cost function for logistic equation\n",
    "len(h)\n",
    "J=np.zeros(100)\n",
    "J=J.reshape(100,1)\n",
    "\n",
    "h=np.array(np.random.rand(100,1))\n",
    "for i in range(len(h)):\n",
    "    if(h[i]>0.5):\n",
    "        J[i]=-np.log(h[i])\n",
    "    elif(h[i]<0.5):\n",
    "        J[i]=-np.log(1-h[i])\n",
    "J_theta=(1/len(h))*(J.mean())\n",
    "#Here J_theta is our cost function\n",
    "print(J_theta)"
   ]
  }
 ],
 "metadata": {
  "kernelspec": {
   "display_name": "Python 2",
   "language": "python",
   "name": "python2"
  },
  "language_info": {
   "codemirror_mode": {
    "name": "ipython",
    "version": 2.0
   },
   "file_extension": ".py",
   "mimetype": "text/x-python",
   "name": "python",
   "nbconvert_exporter": "python",
   "pygments_lexer": "ipython2",
   "version": "2.7.6"
  }
 },
 "nbformat": 4,
 "nbformat_minor": 0
}